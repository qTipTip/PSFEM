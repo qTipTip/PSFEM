{
 "cells": [
  {
   "cell_type": "markdown",
   "metadata": {
    "collapsed": true
   },
   "source": [
    "# Global $C^1$ basis on a general triangulation."
   ]
  },
  {
   "cell_type": "markdown",
   "metadata": {},
   "source": [
    "In this notebook we visualize the global basis functions on a general triangulation. We will in this example use the unit square partitioned into four triangles by the center of the square. We start by importing the needed modules, and defining the mesh."
   ]
  },
  {
   "cell_type": "code",
   "execution_count": null,
   "metadata": {},
   "outputs": [],
   "source": [
    "import numpy as np\n",
    "from PSFEM.mesh import Mesh\n",
    "from SSplines import sample_triangle\n",
    "\n",
    "vertices = np.array([\n",
    "    [0, 0],\n",
    "    [1, 0],\n",
    "    [0, 1],\n",
    "    [1, 1],\n",
    "    [0.5, 0.5]\n",
    "])\n",
    "\n",
    "triangles = np.array([\n",
    "    [0, 1, 4],\n",
    "    [1, 3, 4],\n",
    "    [3, 2, 4],\n",
    "    [2, 0, 4]\n",
    "])\n",
    "\n",
    "M = Mesh(vertices, triangles)\n",
    "\n"
   ]
  }
 ],
 "metadata": {
  "kernelspec": {
   "display_name": "Python 2",
   "language": "python",
   "name": "python2"
  },
  "language_info": {
   "codemirror_mode": {
    "name": "ipython",
    "version": 2
   },
   "file_extension": ".py",
   "mimetype": "text/x-python",
   "name": "python",
   "nbconvert_exporter": "python",
   "pygments_lexer": "ipython2",
   "version": "2.7.6"
  }
 },
 "nbformat": 4,
 "nbformat_minor": 0
}
